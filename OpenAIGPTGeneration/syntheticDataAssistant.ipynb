{
 "cells": [
  {
   "cell_type": "markdown",
   "id": "bf33a4cf-1ecc-40d2-9a68-50055d324f7f",
   "metadata": {},
   "source": [
    "# Import libararies and load data"
   ]
  },
  {
   "cell_type": "code",
   "execution_count": 64,
   "id": "69f62a47-099b-4103-bad7-54ba097ae206",
   "metadata": {
    "tags": []
   },
   "outputs": [],
   "source": [
    "import os\n",
    "import openai\n",
    "from openai import OpenAI\n",
    "from tenacity import retry, wait_random_exponential, stop_after_attempt\n",
    "import pandas as pd\n",
    "import json\n",
    "import re\n",
    "from openai import AzureOpenAI\n",
    "import random\n",
    "from tqdm import tqdm\n",
    "import time\n",
    "\n",
    "%run \"./utilityFunctions.ipynb\""
   ]
  },
  {
   "cell_type": "code",
   "execution_count": 78,
   "id": "72895a60-ff80-416c-85ed-3247b3b8be78",
   "metadata": {
    "tags": []
   },
   "outputs": [
    {
     "name": "stdout",
     "output_type": "stream",
     "text": [
      "List of subject_ids:\n",
      "[303, 304, 305, 310, 312, 313, 315, 316, 317, 318, 319, 320, 321, 322, 324, 325, 326, 327, 328, 330, 333, 336, 338, 339, 340, 341, 343, 344, 345, 347, 348, 350, 351, 352, 353, 355, 356, 357, 358, 360, 362, 363, 364, 366, 368, 369, 370, 371, 372, 374, 375, 376, 379, 380, 383, 385, 386, 391, 392, 393, 397, 400, 401, 402, 409, 412, 414, 415, 416, 419, 423, 425, 426, 427, 428, 429, 430, 433, 434, 437, 441, 443, 444, 445, 446, 447, 448, 449, 454, 455, 456, 457, 459, 463, 464, 468, 471, 473, 474, 475, 478, 479, 485, 486, 487, 488, 491]\n"
     ]
    }
   ],
   "source": [
    "test = pd.read_csv(\"test.csv\")\n",
    "val = pd.read_csv(\"val.csv\")\n",
    "train = pd.read_csv(\"train.csv\")\n",
    "# Initialize an empty list to store subject_ids\n",
    "subject_ids = []\n",
    "\n",
    "# extract training subject_id and append to the list\n",
    "def extract_subject_ids(df, subject_ids_list):\n",
    "    subject_ids_list.extend(df['subject_id'].tolist())\n",
    "\n",
    "extract_subject_ids(train, subject_ids)\n",
    "\n",
    "print(\"List of subject_ids:\")\n",
    "print(subject_ids)"
   ]
  },
  {
   "cell_type": "code",
   "execution_count": 81,
   "id": "d5b325a4-e4f9-47af-b18a-60755da429c2",
   "metadata": {
    "tags": []
   },
   "outputs": [
    {
     "name": "stdout",
     "output_type": "stream",
     "text": [
      "                                 EmotionsFromSentiment  ParticipantID  \\\n",
      "3    contentment,ambition,nostalgia,frustration,lov...            303   \n",
      "4    positive,negative,regretful/reflective,betraye...            304   \n",
      "5    frustration,hopefulness,nostalgia,anger,hurt,d...            305   \n",
      "10   frustration,loneliness,nostalgia,anger managem...            310   \n",
      "12      nostalgia,anxiety,contentment,mild frustration            312   \n",
      "..                                                 ...            ...   \n",
      "174  fatigue,appreciation,frustration,dislike,pasio...            485   \n",
      "175  excitement,enjoyment,appreciation,uncertainty,...            486   \n",
      "176  nostalgia,satisfaction,resilience,curiosity,ex...            487   \n",
      "177  enjoyment,frustration,nostalgia,uncertainty,se...            488   \n",
      "180  overwhelm,stress,nostalgia,ambition,frustratio...            491   \n",
      "\n",
      "     PHQ8_Score                                          Sentiment  \\\n",
      "3             0  The patient's responses exhibit mixed emotions...   \n",
      "4             6  The patient's responses reveal mixed sentiment...   \n",
      "5             7  The patient expresses frustration about being ...   \n",
      "10            4  The patient's responses indicate feelings of f...   \n",
      "12            2  Throughout the session various emotions were e...   \n",
      "..          ...                                                ...   \n",
      "174           2  Feelings expressed include slight tiredness (f...   \n",
      "175           4  Positive emotions include excitement (travel),...   \n",
      "176           0  Patient displayed mixed emotions: nostalgia (r...   \n",
      "177           0  The patient's responses indicate mixed emotion...   \n",
      "180           8  Emotions expressed include overwhelm (funeral ...   \n",
      "\n",
      "                                              Synopsis  \\\n",
      "3    The patient discusses various aspects of their...   \n",
      "4    The patient is originally from Los Angeles and...   \n",
      "5    The patient is experiencing significant distre...   \n",
      "10   The patient expresses general dissatisfaction ...   \n",
      "12   The patient, a physics and aerospace engineeri...   \n",
      "..                                                 ...   \n",
      "174  The patient recently moved from St. Louis to L...   \n",
      "175  The patient recently moved back to LA from St....   \n",
      "176  The patient discussed her relocation from Detr...   \n",
      "177  The patient discussed a variety of personal to...   \n",
      "180  The patient expresses feeling overwhelmed due ...   \n",
      "\n",
      "                                          Conversation  \\\n",
      "3    how are you doing today. okay how 'bout yourse...   \n",
      "4    how are you doing today. i'm doing good um. wh...   \n",
      "5    how are you doing today. i'm doing alright. wh...   \n",
      "10   so how are you doing today. *laughter* fine. w...   \n",
      "12   so how are you doing today. fine how about you...   \n",
      "..                                                 ...   \n",
      "174  so how are you doing today. i'm not bad i'm a ...   \n",
      "175  so how are you doing today. i'm feel great. wh...   \n",
      "176  so how are you doing today. i'm fine thank you...   \n",
      "177  so how are you doing today. fine. where are yo...   \n",
      "180  so how are you doing today. huh overwhelmed. w...   \n",
      "\n",
      "                                 EmotionsFromTrancript  \n",
      "3    content,curious,proud,frustrated,happy,tired,i...  \n",
      "4    contentment,curiosity,satisfaction,frustration...  \n",
      "5    content,curious,unhappy,stressed,hopeful,intim...  \n",
      "10   amused,content,frustrated,inquisitive,introver...  \n",
      "12   content,amused,nervous,proud,happy,introverted...  \n",
      "..                                                 ...  \n",
      "174  tired,content,curious,hopeful,different,nostal...  \n",
      "175  content,curious,sorry,relaxed,happy,outgoing,t...  \n",
      "176  content,curious,nostalgic,distaste,satisfactio...  \n",
      "177  content,curious,cultural,frustrated,inconsider...  \n",
      "180  overwhelmed,hard,stressed,satisfied,fulfilled,...  \n",
      "\n",
      "[106 rows x 7 columns]\n"
     ]
    }
   ],
   "source": [
    "# Download the training dataset as json as openAI vectorbase doesn't allow uploading csv format \n",
    "synopsisAndSentiment = pd.read_csv(\"synopsisAndSentiment.csv\")\n",
    "\n",
    "filtered_data = synopsisAndSentiment[synopsisAndSentiment['ParticipantID'].isin(subject_ids)]\n",
    "extracted_data = filtered_data[['ParticipantID', 'Synopsis', 'Sentiment']]\n",
    "data_list = extracted_data.to_dict(orient='records')\n",
    "json_data = json.dumps(data_list, ensure_ascii=False)\n",
    "file_name = 'synopsisAndSentiment.json'\n",
    "\n",
    "with open(file_name, 'w', encoding='utf-8') as file:\n",
    "    file.write(json_data)\n"
   ]
  },
  {
   "cell_type": "code",
   "execution_count": 84,
   "id": "41abd6e2-1df0-4f59-91d6-260e930ec24f",
   "metadata": {
    "tags": []
   },
   "outputs": [],
   "source": [
    "descriptions = \"\"\"\n",
    " You are an intelligent data generation assistant tasked with creating synthetic data for synopsis and sentiment analysis by learning from the samples in the database\n",
    "\"\"\""
   ]
  },
  {
   "cell_type": "code",
   "execution_count": 85,
   "id": "7d8c0b23-edf1-41c1-ad1e-59442e160b78",
   "metadata": {
    "tags": []
   },
   "outputs": [],
   "source": [
    "prompt = \"\"\"\n",
    "Given a PHQ8 score of {PHQ8score}, where the PHQ8 score categories are:\n",
    "   - 0-4: No or minimal depression\n",
    "   - 5-9: Mild depression\n",
    "   - 10-14: Moderate depression\n",
    "   - 15-19: Moderately severe depression\n",
    "   - 20-24: Severe depression\n",
    "\n",
    "Use the synopses and sentiments of different participants in the database as references. Learn the various types of stories, ways of living, experiences of suffering, personal development, and emotions exhibited. Create a single synthetic synopsis and sentiment with different storylines and experiences that match the magnitude of the given PHQ8 score.\n",
    "\n",
    "Format your output as a compact JSON object on a single line, including two properties: 'Synopsis' and 'Sentiment'. Avoid any extra spaces or line breaks within the JSON.\n",
    "\n",
    "Example: \"Synopsis\":\"Synopsis here\", \"Sentiment\":\"Sentiment here\"\n",
    "\"\"\"\n"
   ]
  },
  {
   "cell_type": "code",
   "execution_count": 86,
   "id": "72463480-8640-4d2a-8900-b039093b548b",
   "metadata": {
    "tags": []
   },
   "outputs": [
    {
     "name": "stdout",
     "output_type": "stream",
     "text": [
      "Assistant created: Synopsis and Sentiment Generation Assistant\n",
      "Assistant ID: asst_Pv2CkfKV6UKAashLCCcprXzn\n"
     ]
    }
   ],
   "source": [
    "\n",
    "client = AzureOpenAI(\n",
    "    azure_endpoint=\"https://dalleshuhaotest.openai.azure.com/\",  # your Azure endpoint\n",
    "    api_version=\"2024-05-01-preview\",\n",
    "    api_key=\"5d21ccaf284a4b2baa3b1e85113e8b65\",  # your API key\n",
    "    \n",
    ")\n",
    "\n",
    "# Create an assistant\n",
    "assistant = client.beta.assistants.create(\n",
    "    name=\"Synopsis and Sentiment Generation Assistant\",\n",
    "    instructions=prompt,\n",
    "    model= \"gpt-4o\", # You must replace this value with the deployment name for your model.\n",
    "    tools=[{\"type\": \"file_search\"}],\n",
    "    \n",
    ")\n",
    "\n",
    "print(f\"Assistant created: {assistant.name}\")\n",
    "print(f\"Assistant ID: {assistant.id}\")"
   ]
  },
  {
   "cell_type": "code",
   "execution_count": 90,
   "id": "a6b43359-1242-4db5-8ce5-276a0f95da0e",
   "metadata": {
    "tags": []
   },
   "outputs": [],
   "source": [
    "assistantID = 'asst_Pv2CkfKV6UKAashLCCcprXzn'\n",
    "vectorStoreID = 'vs_wZ8xTW4zX6A3gxW5dnqleZE4'"
   ]
  },
  {
   "cell_type": "code",
   "execution_count": 87,
   "id": "5d16e4df-6c5c-404d-967b-2289bcba3b93",
   "metadata": {
    "tags": []
   },
   "outputs": [
    {
     "name": "stdout",
     "output_type": "stream",
     "text": [
      "Current Working Directory: /Users/Chenjunyu/Desktop/Work/Computational Vision and Learning Lab/Depression Detection\n"
     ]
    }
   ],
   "source": [
    "#Get current directory\n",
    "current_directory = os.getcwd()\n",
    "print(\"Current Working Directory:\", current_directory)"
   ]
  },
  {
   "cell_type": "code",
   "execution_count": 88,
   "id": "ed6d4f1d-c8bb-4afa-8400-19d589d01fd6",
   "metadata": {
    "tags": []
   },
   "outputs": [],
   "source": [
    "# Create vector store and process files of interest\n",
    "vector_store = client.beta.vector_stores.create(name=\"Synopsis and Sentiment Database\")\n",
    "\n",
    "file_paths = [\"/Users/Chenjunyu/Desktop/Work/Computational Vision and Learning Lab/Depression Detection/synopsisAndSentiment.json\"]\n",
    "file_streams = [open(path, \"rb\") for path in file_paths]"
   ]
  },
  {
   "cell_type": "code",
   "execution_count": 91,
   "id": "d6590286-1fe9-4eeb-95b2-d53cab9f8423",
   "metadata": {
    "tags": []
   },
   "outputs": [
    {
     "name": "stdout",
     "output_type": "stream",
     "text": [
      "completed\n",
      "FileCounts(cancelled=0, completed=1, failed=0, in_progress=0, total=1)\n"
     ]
    }
   ],
   "source": [
    "# Use the upload and poll SDK helper to upload the files, add them to the vector store, and poll the status of the file batch for completion.\n",
    "file_batch = client.beta.vector_stores.file_batches.upload_and_poll(\n",
    "  vector_store_id=vectorStoreID, files=file_streams\n",
    ")\n",
    "\n",
    "print(file_batch.status)\n",
    "print(file_batch.file_counts)"
   ]
  },
  {
   "cell_type": "code",
   "execution_count": null,
   "id": "4db26f36-d4f3-4a7d-a994-81f8185f2bfc",
   "metadata": {},
   "outputs": [],
   "source": [
    "# Update the status of our assistant\n",
    "assistant = client.beta.assistants.update(\n",
    "  assistant_id=assistantID,\n",
    "  tool_resources={\"file_search\": {\"vector_store_ids\": [vector_store.id]}},\n",
    ")"
   ]
  },
  {
   "cell_type": "markdown",
   "id": "efa0ef95-5381-4724-872b-f103fd5cab38",
   "metadata": {},
   "source": [
    "# Playground section"
   ]
  },
  {
   "cell_type": "code",
   "execution_count": 93,
   "id": "7852d9f8-c5d6-4717-aeda-53331fdc151e",
   "metadata": {
    "tags": []
   },
   "outputs": [],
   "source": [
    "thread = client.beta.threads.create()"
   ]
  },
  {
   "cell_type": "code",
   "execution_count": 45,
   "id": "dad9bec9-7b36-4abe-8c51-7f052385b970",
   "metadata": {
    "tags": []
   },
   "outputs": [],
   "source": [
    "message = client.beta.threads.messages.create(\n",
    "  thread_id=thread.id,\n",
    "  role=\"user\",\n",
    "  content= \"Do what the instruction says\",\n",
    "    \n",
    ")"
   ]
  },
  {
   "cell_type": "code",
   "execution_count": 46,
   "id": "39b75dff-4faa-4aa2-a811-f3f083420ca7",
   "metadata": {
    "tags": []
   },
   "outputs": [],
   "source": [
    "run = client.beta.threads.runs.create_and_poll(\n",
    "  thread_id=thread.id,\n",
    "  assistant_id=assistantID,\n",
    "  instructions=prompt,\n",
    ")\n"
   ]
  },
  {
   "cell_type": "code",
   "execution_count": 49,
   "id": "c6b71935-82bd-4580-945d-3e076cbe1107",
   "metadata": {
    "tags": []
   },
   "outputs": [
    {
     "name": "stdout",
     "output_type": "stream",
     "text": [
      "SyncCursorPage[Message](data=[Message(id='msg_YeZiWvRB7LTmu4ngXpApI9ld', assistant_id='asst_h6RvQIqrZRgRXDeO0lJAUXVj', attachments=[], completed_at=None, content=[TextContentBlock(text=Text(annotations=[], value='```json\\n{\"Synopsis\":\"The patient moved to Los Angeles for better opportunities but has been struggling significantly with personal and professional difficulties. They describe keen interest in creative pursuits such as photography and acting but face financial instability causing stress and a sense of unfulfillment. Diagnosed with severe depression three years ago, they experience frequent sleep disturbances and anxiety attacks originating from past trauma. Despite therapy offering some relief, economic constraints prevent continued sessions, exacerbating feelings of hopelessness and isolation. Precious moments are often overshadowed by persistent sadness and regret regarding unachieved academic or career goals. Social interactions are limited to close family members and a supportive friend, though strained family dynamics and regret over failed relationships add to emotional burdens.\",\"Sentiment\":\"The patient\\'s emotions are predominantly negative, marked by persistent feelings of sadness, frustration, and regret. Positive relief is occasionally gained through creative outlets and supportive relations. However, the prevailing sentiment is one of overwhelming despair and anxiety, reflecting the psychological weight borne by daily life challenges.\"}\\n```'), type='text')], created_at=1717563834, incomplete_at=None, incomplete_details=None, metadata={}, object='thread.message', role='assistant', run_id='run_cu87OWvCJ5Opyy0jdLSPk86q', status=None, thread_id='thread_8xsiObAXCIufPQnPXiGaHKwu'), Message(id='msg_EtQ2386LZbXWVdjDgfJQqIbX', assistant_id=None, attachments=[], completed_at=None, content=[TextContentBlock(text=Text(annotations=[], value='Do what the instruction says'), type='text')], created_at=1717563823, incomplete_at=None, incomplete_details=None, metadata={}, object='thread.message', role='user', run_id=None, status=None, thread_id='thread_8xsiObAXCIufPQnPXiGaHKwu'), Message(id='msg_VxuG6hhLYghFYcXr7tz0s8qs', assistant_id='asst_h6RvQIqrZRgRXDeO0lJAUXVj', attachments=[], completed_at=None, content=[TextContentBlock(text=Text(annotations=[], value='```json\\n{\"Synopsis\":\"The patient moved from Atlanta to Los Angeles for opportunities but dislikes the traffic congestion. They describe themselves as ambitious, aiming to own a business someday after studying business administration. Despite recent frustrations with unmet promises from friends, they maintain close relationships with family, deriving support from parents. The patient struggles with career satisfaction, working currently as an administrative assistant through a temp agency and dreams of a more independent, creative role. Recreational activities include reading, cooking, and exercising for relaxation. Emotional challenges include dealing with nostalgia from childhood, frustration with career-related delays, and regret for not finishing college earlier.\",\"Sentiment\":\"The patient\\'s emotions are mixed: positive feelings about aspirations and family support are tempered by frustration with career progression, mild regret over past educational decisions, and general day-to-day irritations.\"}\\n```'), type='text')], created_at=1717562434, incomplete_at=None, incomplete_details=None, metadata={}, object='thread.message', role='assistant', run_id='run_PpsBy7xtS271TSHAM8sc3fWD', status=None, thread_id='thread_8xsiObAXCIufPQnPXiGaHKwu'), Message(id='msg_oI4imC07fJ35QIJKntGIAudu', assistant_id=None, attachments=[], completed_at=None, content=[TextContentBlock(text=Text(annotations=[], value='Do what the instruction says'), type='text')], created_at=1717562428, incomplete_at=None, incomplete_details=None, metadata={}, object='thread.message', role='user', run_id=None, status=None, thread_id='thread_8xsiObAXCIufPQnPXiGaHKwu')], object='list', first_id='msg_YeZiWvRB7LTmu4ngXpApI9ld', last_id='msg_oI4imC07fJ35QIJKntGIAudu', has_more=False)\n"
     ]
    }
   ],
   "source": [
    "if run.status == 'completed': \n",
    "    messages = client.beta.threads.messages.list(\n",
    "    thread_id=thread.id,\n",
    "  )\n",
    "    print(messages)\n",
    "else:\n",
    "    print(run.status)\n",
    "    \n",
    "    "
   ]
  },
  {
   "cell_type": "code",
   "execution_count": null,
   "id": "71e5e849-5fb8-4ca7-8a5a-6f5aa88d3334",
   "metadata": {},
   "outputs": [],
   "source": [
    "messages = list(client.beta.threads.messages.list(thread_id=thread.id, run_id=run.id))\n",
    "\n",
    "message_content = messages[0].content[0].text.value\n",
    "message_content"
   ]
  },
  {
   "cell_type": "markdown",
   "id": "63cddb02-600c-4739-be96-0613533f9928",
   "metadata": {},
   "source": [
    "# Iterative pipeline"
   ]
  },
  {
   "cell_type": "code",
   "execution_count": 98,
   "id": "c6432904-4c34-4130-b697-9f925017e248",
   "metadata": {
    "tags": []
   },
   "outputs": [],
   "source": [
    "def get_response(client, assistantID, PHQ8score):\n",
    "    # Create a new thread\n",
    "    thread = client.beta.threads.create()\n",
    "    \n",
    "    # Create a new message in the thread\n",
    "    message = client.beta.threads.messages.create(\n",
    "        thread_id=thread.id,\n",
    "        role=\"user\",\n",
    "        content=\"Do what the instruction says\"\n",
    "    )\n",
    "    \n",
    "    # Create and poll the run\n",
    "    run = client.beta.threads.runs.create_and_poll(\n",
    "        thread_id=thread.id,\n",
    "        assistant_id=assistantID,\n",
    "        instructions=prompt.format(PHQ8score=PHQ8score)\n",
    "    )\n",
    "    attempt =0\n",
    "    \n",
    "    while run.status != \"completed\" and attempt < 5:\n",
    "        print(f\"Current status: {run.status}\")\n",
    "        attempt +=1\n",
    "        time.sleep(15)  # Wait for 5 seconds before checking the status again\n",
    "        run = client.beta.threads.runs.create_and_poll(\n",
    "        thread_id=thread.id,\n",
    "        assistant_id=assistantID,\n",
    "        instructions=prompt.format(PHQ8score=PHQ8score)\n",
    "    )\n",
    "    print(f\"Current status: {run.status}\")\n",
    "    # Get messages from the run once the status is completed\n",
    "    messages = list(client.beta.threads.messages.list(thread_id=thread.id, run_id=run.id))\n",
    "\n",
    "    # Extract the content of the first message\n",
    "    message_content = messages[0].content[0].text.value if messages else \"\"\n",
    "    print(message_content)\n",
    "    \n",
    "    return thread, run, messages, message_content\n",
    "\n",
    "\n"
   ]
  },
  {
   "cell_type": "code",
   "execution_count": null,
   "id": "d2a3d5e5-6223-4f69-8a08-88e36acd6ce9",
   "metadata": {},
   "outputs": [],
   "source": [
    "\n",
    "json_responses = []\n",
    "\n",
    "\n",
    "for iteration in tqdm(range(308)):\n",
    "    attempt_count = 0\n",
    "    success = False\n",
    "    PHQ8score = random.randint(0, 24)\n",
    "    while attempt_count < 10 and not success:\n",
    "        attempt_count += 1\n",
    "    \n",
    "        # Try to fix and load the JSON response\n",
    "        try:\n",
    "            thread, run, messages, message_content = get_response(client, assistantID, PHQ8score)\n",
    "            json_response = fix_json_response(message_content)\n",
    "            # If the JSON response is valid and contains the required keys, append it to the list\n",
    "            if json_response and 'Synopsis' in json_response and 'Sentiment' in json_response:\n",
    "                json_response['PHQ8_Score'] = PHQ8score\n",
    "                json_responses.append(json_response)\n",
    "                success = True\n",
    "\n",
    "        except ValueError:\n",
    "            continue\n",
    "        \n",
    "        except Exception as e:\n",
    "            # Handle any other exceptions, including BadRequestError\n",
    "            print(f\"Error encountered: {e}. Skipping this prompt.\")\n",
    "            break\n",
    "\n",
    "    \n",
    "df = pd.DataFrame(json_responses)\n",
    "print(df)"
   ]
  },
  {
   "cell_type": "code",
   "execution_count": 96,
   "id": "1e919a60-ddde-424d-bcc4-a421d7b5a694",
   "metadata": {
    "tags": []
   },
   "outputs": [
    {
     "data": {
      "text/html": [
       "<div>\n",
       "<style scoped>\n",
       "    .dataframe tbody tr th:only-of-type {\n",
       "        vertical-align: middle;\n",
       "    }\n",
       "\n",
       "    .dataframe tbody tr th {\n",
       "        vertical-align: top;\n",
       "    }\n",
       "\n",
       "    .dataframe thead th {\n",
       "        text-align: right;\n",
       "    }\n",
       "</style>\n",
       "<table border=\"1\" class=\"dataframe\">\n",
       "  <thead>\n",
       "    <tr style=\"text-align: right;\">\n",
       "      <th></th>\n",
       "      <th>Synopsis</th>\n",
       "      <th>Sentiment</th>\n",
       "      <th>PHQ8_Score</th>\n",
       "    </tr>\n",
       "  </thead>\n",
       "  <tbody>\n",
       "    <tr>\n",
       "      <th>0</th>\n",
       "      <td>The patient moved from Pennsylvania to Los Ang...</td>\n",
       "      <td>The patient displays a mix of emotions includi...</td>\n",
       "      <td>16</td>\n",
       "    </tr>\n",
       "    <tr>\n",
       "      <th>1</th>\n",
       "      <td>A participant living in Los Angeles, educated ...</td>\n",
       "      <td>The participant's emotional landscape is mostl...</td>\n",
       "      <td>3</td>\n",
       "    </tr>\n",
       "    <tr>\n",
       "      <th>2</th>\n",
       "      <td>The patient reflects on their daily life in Lo...</td>\n",
       "      <td>The patient's emotions range from contentment ...</td>\n",
       "      <td>4</td>\n",
       "    </tr>\n",
       "    <tr>\n",
       "      <th>3</th>\n",
       "      <td>The patient recently transitioned from Pennsyl...</td>\n",
       "      <td>The patient's emotions are predominantly negat...</td>\n",
       "      <td>24</td>\n",
       "    </tr>\n",
       "    <tr>\n",
       "      <th>4</th>\n",
       "      <td>The patient is originally from Florida but mov...</td>\n",
       "      <td>Contentment: Enjoyment of LA weather and cultu...</td>\n",
       "      <td>4</td>\n",
       "    </tr>\n",
       "    <tr>\n",
       "      <th>...</th>\n",
       "      <td>...</td>\n",
       "      <td>...</td>\n",
       "      <td>...</td>\n",
       "    </tr>\n",
       "    <tr>\n",
       "      <th>303</th>\n",
       "      <td>The patient expresses their experiences of mov...</td>\n",
       "      <td>The patient's emotions fluctuate between sadne...</td>\n",
       "      <td>16</td>\n",
       "    </tr>\n",
       "    <tr>\n",
       "      <th>304</th>\n",
       "      <td>The patient discusses various life aspects, in...</td>\n",
       "      <td>Patient exhibits mixed emotions: contentment w...</td>\n",
       "      <td>16</td>\n",
       "    </tr>\n",
       "    <tr>\n",
       "      <th>305</th>\n",
       "      <td>The patient discusses a range of life experien...</td>\n",
       "      <td>Mixed emotions: sadness about romantic prospec...</td>\n",
       "      <td>6</td>\n",
       "    </tr>\n",
       "    <tr>\n",
       "      <th>306</th>\n",
       "      <td>The participant discusses life in Los Angeles ...</td>\n",
       "      <td>Sadness due to financial struggles and lack of...</td>\n",
       "      <td>3</td>\n",
       "    </tr>\n",
       "    <tr>\n",
       "      <th>307</th>\n",
       "      <td>The patient expresses a mixed emotional state,...</td>\n",
       "      <td>Mixed emotions: frustration (career competitio...</td>\n",
       "      <td>8</td>\n",
       "    </tr>\n",
       "  </tbody>\n",
       "</table>\n",
       "<p>308 rows × 3 columns</p>\n",
       "</div>"
      ],
      "text/plain": [
       "                                              Synopsis  \\\n",
       "0    The patient moved from Pennsylvania to Los Ang...   \n",
       "1    A participant living in Los Angeles, educated ...   \n",
       "2    The patient reflects on their daily life in Lo...   \n",
       "3    The patient recently transitioned from Pennsyl...   \n",
       "4    The patient is originally from Florida but mov...   \n",
       "..                                                 ...   \n",
       "303  The patient expresses their experiences of mov...   \n",
       "304  The patient discusses various life aspects, in...   \n",
       "305  The patient discusses a range of life experien...   \n",
       "306  The participant discusses life in Los Angeles ...   \n",
       "307  The patient expresses a mixed emotional state,...   \n",
       "\n",
       "                                             Sentiment  PHQ8_Score  \n",
       "0    The patient displays a mix of emotions includi...          16  \n",
       "1    The participant's emotional landscape is mostl...           3  \n",
       "2    The patient's emotions range from contentment ...           4  \n",
       "3    The patient's emotions are predominantly negat...          24  \n",
       "4    Contentment: Enjoyment of LA weather and cultu...           4  \n",
       "..                                                 ...         ...  \n",
       "303  The patient's emotions fluctuate between sadne...          16  \n",
       "304  Patient exhibits mixed emotions: contentment w...          16  \n",
       "305  Mixed emotions: sadness about romantic prospec...           6  \n",
       "306  Sadness due to financial struggles and lack of...           3  \n",
       "307  Mixed emotions: frustration (career competitio...           8  \n",
       "\n",
       "[308 rows x 3 columns]"
      ]
     },
     "execution_count": 96,
     "metadata": {},
     "output_type": "execute_result"
    }
   ],
   "source": [
    "df"
   ]
  },
  {
   "cell_type": "code",
   "execution_count": 97,
   "id": "bc543416-07ea-4cd0-a9cd-a0a192cd3056",
   "metadata": {
    "tags": []
   },
   "outputs": [],
   "source": [
    "df.to_csv('syntheticSynopsisAndSentimentFromAssistant.csv', index=False)"
   ]
  }
 ],
 "metadata": {
  "kernelspec": {
   "display_name": "jobjuniorenv",
   "language": "python",
   "name": "jobjuniorenv"
  },
  "language_info": {
   "codemirror_mode": {
    "name": "ipython",
    "version": 3
   },
   "file_extension": ".py",
   "mimetype": "text/x-python",
   "name": "python",
   "nbconvert_exporter": "python",
   "pygments_lexer": "ipython3",
   "version": "3.11.5"
  }
 },
 "nbformat": 4,
 "nbformat_minor": 5
}
